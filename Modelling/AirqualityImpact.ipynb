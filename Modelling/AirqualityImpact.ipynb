{
 "cells": [
  {
   "cell_type": "markdown",
   "metadata": {},
   "source": [
    "**Dataset: Air Quality and Public Health Impact**\n",
    "\n",
    "This dataset is from (https://www.kaggle.com/datasets/rabieelkharoua/air-quality-and-health-impact-dataset/data) contains comprehensive information on air quality and its impact on public health, with a total of 5,811 records. It includes variables such as the Air Quality Index (AQI), concentrations of various pollutants, weather conditions, and health impact metrics. The target variable is the **Health Impact Class**, which categorizes the health impact based on air quality and related factors.\n",
    "\n"
   ]
  },
  {
   "cell_type": "code",
   "execution_count": 1,
   "metadata": {},
   "outputs": [],
   "source": [
    "import pandas as pd\n",
    "\n",
    "df = pd.read_csv('airquality.csv')"
   ]
  },
  {
   "cell_type": "markdown",
   "metadata": {},
   "source": [
    "### exploratory Data analysis"
   ]
  },
  {
   "cell_type": "code",
   "execution_count": 2,
   "metadata": {},
   "outputs": [
    {
     "data": {
      "text/html": [
       "<div>\n",
       "<style scoped>\n",
       "    .dataframe tbody tr th:only-of-type {\n",
       "        vertical-align: middle;\n",
       "    }\n",
       "\n",
       "    .dataframe tbody tr th {\n",
       "        vertical-align: top;\n",
       "    }\n",
       "\n",
       "    .dataframe thead th {\n",
       "        text-align: right;\n",
       "    }\n",
       "</style>\n",
       "<table border=\"1\" class=\"dataframe\">\n",
       "  <thead>\n",
       "    <tr style=\"text-align: right;\">\n",
       "      <th></th>\n",
       "      <th>RecordID</th>\n",
       "      <th>AQI</th>\n",
       "      <th>PM10</th>\n",
       "      <th>PM2_5</th>\n",
       "      <th>NO2</th>\n",
       "      <th>SO2</th>\n",
       "      <th>O3</th>\n",
       "      <th>Temperature</th>\n",
       "      <th>Humidity</th>\n",
       "      <th>WindSpeed</th>\n",
       "      <th>RespiratoryCases</th>\n",
       "      <th>CardiovascularCases</th>\n",
       "      <th>HospitalAdmissions</th>\n",
       "      <th>HealthImpactScore</th>\n",
       "      <th>HealthImpactClass</th>\n",
       "    </tr>\n",
       "  </thead>\n",
       "  <tbody>\n",
       "    <tr>\n",
       "      <th>0</th>\n",
       "      <td>1</td>\n",
       "      <td>187.270059</td>\n",
       "      <td>295.853039</td>\n",
       "      <td>13.038560</td>\n",
       "      <td>6.639263</td>\n",
       "      <td>66.161150</td>\n",
       "      <td>54.624280</td>\n",
       "      <td>5.150335</td>\n",
       "      <td>84.424344</td>\n",
       "      <td>6.137755</td>\n",
       "      <td>7</td>\n",
       "      <td>5</td>\n",
       "      <td>1</td>\n",
       "      <td>97.244041</td>\n",
       "      <td>0.0</td>\n",
       "    </tr>\n",
       "    <tr>\n",
       "      <th>1</th>\n",
       "      <td>2</td>\n",
       "      <td>475.357153</td>\n",
       "      <td>246.254703</td>\n",
       "      <td>9.984497</td>\n",
       "      <td>16.318326</td>\n",
       "      <td>90.499523</td>\n",
       "      <td>169.621728</td>\n",
       "      <td>1.543378</td>\n",
       "      <td>46.851415</td>\n",
       "      <td>4.521422</td>\n",
       "      <td>10</td>\n",
       "      <td>2</td>\n",
       "      <td>0</td>\n",
       "      <td>100.000000</td>\n",
       "      <td>0.0</td>\n",
       "    </tr>\n",
       "    <tr>\n",
       "      <th>2</th>\n",
       "      <td>3</td>\n",
       "      <td>365.996971</td>\n",
       "      <td>84.443191</td>\n",
       "      <td>23.111340</td>\n",
       "      <td>96.317811</td>\n",
       "      <td>17.875850</td>\n",
       "      <td>9.006794</td>\n",
       "      <td>1.169483</td>\n",
       "      <td>17.806977</td>\n",
       "      <td>11.157384</td>\n",
       "      <td>13</td>\n",
       "      <td>3</td>\n",
       "      <td>0</td>\n",
       "      <td>100.000000</td>\n",
       "      <td>0.0</td>\n",
       "    </tr>\n",
       "    <tr>\n",
       "      <th>3</th>\n",
       "      <td>4</td>\n",
       "      <td>299.329242</td>\n",
       "      <td>21.020609</td>\n",
       "      <td>14.273403</td>\n",
       "      <td>81.234403</td>\n",
       "      <td>48.323616</td>\n",
       "      <td>93.161033</td>\n",
       "      <td>21.925276</td>\n",
       "      <td>99.473373</td>\n",
       "      <td>15.302500</td>\n",
       "      <td>8</td>\n",
       "      <td>8</td>\n",
       "      <td>1</td>\n",
       "      <td>100.000000</td>\n",
       "      <td>0.0</td>\n",
       "    </tr>\n",
       "    <tr>\n",
       "      <th>4</th>\n",
       "      <td>5</td>\n",
       "      <td>78.009320</td>\n",
       "      <td>16.987667</td>\n",
       "      <td>152.111623</td>\n",
       "      <td>121.235461</td>\n",
       "      <td>90.866167</td>\n",
       "      <td>241.795138</td>\n",
       "      <td>9.217517</td>\n",
       "      <td>24.906837</td>\n",
       "      <td>14.534733</td>\n",
       "      <td>9</td>\n",
       "      <td>0</td>\n",
       "      <td>1</td>\n",
       "      <td>95.182643</td>\n",
       "      <td>0.0</td>\n",
       "    </tr>\n",
       "  </tbody>\n",
       "</table>\n",
       "</div>"
      ],
      "text/plain": [
       "   RecordID         AQI        PM10       PM2_5         NO2        SO2  \\\n",
       "0         1  187.270059  295.853039   13.038560    6.639263  66.161150   \n",
       "1         2  475.357153  246.254703    9.984497   16.318326  90.499523   \n",
       "2         3  365.996971   84.443191   23.111340   96.317811  17.875850   \n",
       "3         4  299.329242   21.020609   14.273403   81.234403  48.323616   \n",
       "4         5   78.009320   16.987667  152.111623  121.235461  90.866167   \n",
       "\n",
       "           O3  Temperature   Humidity  WindSpeed  RespiratoryCases  \\\n",
       "0   54.624280     5.150335  84.424344   6.137755                 7   \n",
       "1  169.621728     1.543378  46.851415   4.521422                10   \n",
       "2    9.006794     1.169483  17.806977  11.157384                13   \n",
       "3   93.161033    21.925276  99.473373  15.302500                 8   \n",
       "4  241.795138     9.217517  24.906837  14.534733                 9   \n",
       "\n",
       "   CardiovascularCases  HospitalAdmissions  HealthImpactScore  \\\n",
       "0                    5                   1          97.244041   \n",
       "1                    2                   0         100.000000   \n",
       "2                    3                   0         100.000000   \n",
       "3                    8                   1         100.000000   \n",
       "4                    0                   1          95.182643   \n",
       "\n",
       "   HealthImpactClass  \n",
       "0                0.0  \n",
       "1                0.0  \n",
       "2                0.0  \n",
       "3                0.0  \n",
       "4                0.0  "
      ]
     },
     "execution_count": 2,
     "metadata": {},
     "output_type": "execute_result"
    }
   ],
   "source": [
    "df.head(5)"
   ]
  },
  {
   "cell_type": "markdown",
   "metadata": {},
   "source": [
    "**Record Information**\n",
    "- **RecordID**: A unique identifier assigned to each record (1 to 2392).\n",
    "\n",
    "---\n",
    "\n",
    "**Air Quality Metrics**\n",
    "- **AQI**: Air Quality Index, a measure of how polluted the air currently is or how polluted it is forecast to become.\n",
    "- **PM10**: Concentration of particulate matter less than 10 micrometers in diameter (μg/m³).\n",
    "- **PM2_5**: Concentration of particulate matter less than 2.5 micrometers in diameter (μg/m³).\n",
    "- **NO2**: Concentration of nitrogen dioxide (ppb).\n",
    "- **SO2**: Concentration of sulfur dioxide (ppb).\n",
    "- **O3**: Concentration of ozone (ppb).\n",
    "\n",
    "---\n",
    "\n",
    "**Weather Conditions**\n",
    "- **Temperature**: Temperature in degrees Celsius (°C).\n",
    "- **Humidity**: Humidity percentage (%).\n",
    "- **WindSpeed**: Wind speed in meters per second (m/s).\n",
    "\n",
    "---\n",
    "\n",
    "**Health Impact Metrics**\n",
    "- **RespiratoryCases**: Number of respiratory cases reported.\n",
    "- **CardiovascularCases**: Number of cardiovascular cases reported.\n",
    "- **HospitalAdmissions**: Number of hospital admissions reported.\n",
    "\n",
    "---\n",
    "\n",
    "**Target Variable: Health Impact Class**\n",
    "- **HealthImpactScore**: A score indicating the overall health impact based on air quality and related factors, ranging from 0 to 100.\n",
    "\n",
    "- **HealthImpactClass**: Classification of the health impact based on the **HealthImpactScore**:\n",
    "  - **0**: 'Very High' (**HealthImpactScore** ≥ 80)\n",
    "  - **1**: 'High' (60 ≤ **HealthImpactScore** < 80)\n",
    "  - **2**: 'Moderate' (40 ≤ **HealthImpactScore** < 60)\n",
    "  - **3**: 'Low' (20 ≤ **HealthImpactScore** < 40)\n",
    "  - **4**: 'Very Low' (**HealthImpactScore** < 20)\n",
    "\n",
    "---\n",
    "\n",
    "**Conclusion**\n",
    "\n",
    "This dataset offers a comprehensive view of the relationship between air quality and public health, making it ideal for research, predictive modeling, and statistical analysis.\n"
   ]
  },
  {
   "cell_type": "code",
   "execution_count": 3,
   "metadata": {},
   "outputs": [
    {
     "data": {
      "text/plain": [
       "(5811, 15)"
      ]
     },
     "execution_count": 3,
     "metadata": {},
     "output_type": "execute_result"
    }
   ],
   "source": [
    "df.shape"
   ]
  },
  {
   "cell_type": "code",
   "execution_count": 6,
   "metadata": {},
   "outputs": [
    {
     "data": {
      "text/plain": [
       "RecordID               0\n",
       "AQI                    0\n",
       "PM10                   0\n",
       "PM2_5                  0\n",
       "NO2                    0\n",
       "SO2                    0\n",
       "O3                     0\n",
       "Temperature            0\n",
       "Humidity               0\n",
       "WindSpeed              0\n",
       "RespiratoryCases       0\n",
       "CardiovascularCases    0\n",
       "HospitalAdmissions     0\n",
       "HealthImpactScore      0\n",
       "HealthImpactClass      0\n",
       "dtype: int64"
      ]
     },
     "execution_count": 6,
     "metadata": {},
     "output_type": "execute_result"
    }
   ],
   "source": [
    "df.isnull().sum()"
   ]
  },
  {
   "cell_type": "code",
   "execution_count": 7,
   "metadata": {},
   "outputs": [
    {
     "data": {
      "text/plain": [
       "0"
      ]
     },
     "execution_count": 7,
     "metadata": {},
     "output_type": "execute_result"
    }
   ],
   "source": [
    "df.duplicated().sum()"
   ]
  },
  {
   "cell_type": "code",
   "execution_count": 8,
   "metadata": {},
   "outputs": [
    {
     "data": {
      "text/plain": [
       "RecordID                 int64\n",
       "AQI                    float64\n",
       "PM10                   float64\n",
       "PM2_5                  float64\n",
       "NO2                    float64\n",
       "SO2                    float64\n",
       "O3                     float64\n",
       "Temperature            float64\n",
       "Humidity               float64\n",
       "WindSpeed              float64\n",
       "RespiratoryCases         int64\n",
       "CardiovascularCases      int64\n",
       "HospitalAdmissions       int64\n",
       "HealthImpactScore      float64\n",
       "HealthImpactClass      float64\n",
       "dtype: object"
      ]
     },
     "execution_count": 8,
     "metadata": {},
     "output_type": "execute_result"
    }
   ],
   "source": [
    "df.dtypes"
   ]
  },
  {
   "cell_type": "code",
   "execution_count": 9,
   "metadata": {},
   "outputs": [],
   "source": [
    "df = df.drop(columns=['RecordID'])"
   ]
  },
  {
   "cell_type": "code",
   "execution_count": 14,
   "metadata": {},
   "outputs": [
    {
     "data": {
      "application/vnd.plotly.v1+json": {
       "config": {
        "plotlyServerURL": "https://plot.ly"
       },
       "data": [
        {
         "colorbar": {
          "title": {
           "text": "Correlation Coefficient"
          }
         },
         "colorscale": [
          [
           0,
           "#440154"
          ],
          [
           0.1111111111111111,
           "#482878"
          ],
          [
           0.2222222222222222,
           "#3e4989"
          ],
          [
           0.3333333333333333,
           "#31688e"
          ],
          [
           0.4444444444444444,
           "#26828e"
          ],
          [
           0.5555555555555556,
           "#1f9e89"
          ],
          [
           0.6666666666666666,
           "#35b779"
          ],
          [
           0.7777777777777778,
           "#6ece58"
          ],
          [
           0.8888888888888888,
           "#b5de2b"
          ],
          [
           1,
           "#fde725"
          ]
         ],
         "text": [
          [
           1,
           0.023127331864861173,
           0.005889808196207206,
           0.007835562908554332,
           -0.0066438341518436205,
           0.00233914576807192,
           0.0041847573496780425,
           -0.00421706976861861,
           -0.01881557139055322,
           0.009301984753601101,
           0.009158327908309274,
           -0.01359180416608039,
           0.6145597341195581,
           -0.34810600073461245
          ],
          [
           0.023127331864861173,
           1,
           -0.012193155148670455,
           0.008486586801401677,
           -0.007176877679585888,
           -0.004410575519641641,
           -0.017560780525207265,
           -0.017289780332193184,
           -0.01895916530719023,
           -0.0013149495536872004,
           0.015581887876310764,
           -0.009075591135210602,
           0.1826003982062982,
           -0.10827064950241343
          ],
          [
           0.005889808196207206,
           -0.012193155148670455,
           1,
           0.005564099285082377,
           0.015894289630574265,
           0.006069831862334074,
           -0.0019775930554612165,
           0.006719710036902543,
           0.009041044289071029,
           0.025243849241456496,
           0.01731166306115099,
           -0.02312276884338251,
           0.22034689872990293,
           -0.1524072599445287
          ],
          [
           0.007835562908554332,
           0.008486586801401677,
           0.005564099285082377,
           1,
           -0.01997949361311502,
           -0.01491023957240589,
           0.006970804361421778,
           -0.011100302982558813,
           -0.0013975689195120692,
           0.01984858125943604,
           -0.005012106497770507,
           -0.00285932250179159,
           0.12443502983728108,
           -0.09038663799742853
          ],
          [
           -0.0066438341518436205,
           -0.007176877679585888,
           0.015894289630574265,
           -0.01997949361311502,
           1,
           -0.004319184228598712,
           -0.022458028140826397,
           0.0009104664285647185,
           -0.0016165611626538718,
           0.011130016689726572,
           -0.002672118500046207,
           -0.010546208768722653,
           0.015534602732097441,
           -0.008363847077056402
          ],
          [
           0.00233914576807192,
           -0.004410575519641641,
           0.006069831862334074,
           -0.01491023957240589,
           -0.004319184228598712,
           1,
           -0.0012573099963614559,
           0.003981776603452499,
           -0.0025958379072584647,
           -0.010067757081073115,
           0.0017526345644968092,
           -0.014292561841228115,
           0.15794008468383808,
           -0.11009279171204092
          ],
          [
           0.0041847573496780425,
           -0.017560780525207265,
           -0.0019775930554612165,
           0.006970804361421778,
           -0.022458028140826397,
           -0.0012573099963614559,
           1,
           -0.00023278032247807463,
           0.0008865341781376439,
           0.009393959667625856,
           0.009248616382042564,
           0.00794288096430043,
           -0.010555827477494464,
           0.005969306820816482
          ],
          [
           -0.00421706976861861,
           -0.017289780332193184,
           0.006719710036902543,
           -0.011100302982558813,
           0.0009104664285647185,
           0.003981776603452499,
           -0.00023278032247807463,
           1,
           0.02102667127868141,
           0.008690543556548656,
           -0.02461677289609941,
           -0.004864605491232044,
           0.0006623721378246148,
           -0.006715382095628239
          ],
          [
           -0.01881557139055322,
           -0.01895916530719023,
           0.009041044289071029,
           -0.0013975689195120692,
           -0.0016165611626538718,
           -0.0025958379072584647,
           0.0008865341781376439,
           0.02102667127868141,
           1,
           -0.010553059120707082,
           0.003715278621674358,
           -0.006454167590358991,
           -0.025446957886776117,
           0.005999035887489969
          ],
          [
           0.009301984753601101,
           -0.0013149495536872004,
           0.025243849241456496,
           0.01984858125943604,
           0.011130016689726572,
           -0.010067757081073115,
           0.009393959667625856,
           0.008690543556548656,
           -0.010553059120707082,
           1,
           -0.002621433758807231,
           0.00967922185281401,
           0.019267742461709026,
           -0.008536223053523086
          ],
          [
           0.009158327908309274,
           0.015581887876310764,
           0.01731166306115099,
           -0.005012106497770507,
           -0.002672118500046207,
           0.0017526345644968092,
           0.009248616382042564,
           -0.02461677289609941,
           0.003715278621674358,
           -0.002621433758807231,
           1,
           -0.03563161463653825,
           -0.008857433138075627,
           0.001848023981387461
          ],
          [
           -0.01359180416608039,
           -0.009075591135210602,
           -0.02312276884338251,
           -0.00285932250179159,
           -0.010546208768722653,
           -0.014292561841228115,
           0.00794288096430043,
           -0.004864605491232044,
           -0.006454167590358991,
           0.00967922185281401,
           -0.03563161463653825,
           1,
           -0.02930412403737961,
           0.014873113233046107
          ],
          [
           0.6145597341195581,
           0.1826003982062982,
           0.22034689872990293,
           0.12443502983728108,
           0.015534602732097441,
           0.15794008468383808,
           -0.010555827477494464,
           0.0006623721378246148,
           -0.025446957886776117,
           0.019267742461709026,
           -0.008857433138075627,
           -0.02930412403737961,
           1,
           -0.6556114838458436
          ],
          [
           -0.34810600073461245,
           -0.10827064950241343,
           -0.1524072599445287,
           -0.09038663799742853,
           -0.008363847077056402,
           -0.11009279171204092,
           0.005969306820816482,
           -0.006715382095628239,
           0.005999035887489969,
           -0.008536223053523086,
           0.001848023981387461,
           0.014873113233046107,
           -0.6556114838458436,
           1
          ]
         ],
         "textfont": {
          "color": "white",
          "size": 10
         },
         "texttemplate": "%{text:.2f}",
         "type": "heatmap",
         "x": [
          "AQI",
          "PM10",
          "PM2_5",
          "NO2",
          "SO2",
          "O3",
          "Temperature",
          "Humidity",
          "WindSpeed",
          "RespiratoryCases",
          "CardiovascularCases",
          "HospitalAdmissions",
          "HealthImpactScore",
          "HealthImpactClass"
         ],
         "y": [
          "AQI",
          "PM10",
          "PM2_5",
          "NO2",
          "SO2",
          "O3",
          "Temperature",
          "Humidity",
          "WindSpeed",
          "RespiratoryCases",
          "CardiovascularCases",
          "HospitalAdmissions",
          "HealthImpactScore",
          "HealthImpactClass"
         ],
         "z": [
          [
           1,
           0.023127331864861173,
           0.005889808196207206,
           0.007835562908554332,
           -0.0066438341518436205,
           0.00233914576807192,
           0.0041847573496780425,
           -0.00421706976861861,
           -0.01881557139055322,
           0.009301984753601101,
           0.009158327908309274,
           -0.01359180416608039,
           0.6145597341195581,
           -0.34810600073461245
          ],
          [
           0.023127331864861173,
           1,
           -0.012193155148670455,
           0.008486586801401677,
           -0.007176877679585888,
           -0.004410575519641641,
           -0.017560780525207265,
           -0.017289780332193184,
           -0.01895916530719023,
           -0.0013149495536872004,
           0.015581887876310764,
           -0.009075591135210602,
           0.1826003982062982,
           -0.10827064950241343
          ],
          [
           0.005889808196207206,
           -0.012193155148670455,
           1,
           0.005564099285082377,
           0.015894289630574265,
           0.006069831862334074,
           -0.0019775930554612165,
           0.006719710036902543,
           0.009041044289071029,
           0.025243849241456496,
           0.01731166306115099,
           -0.02312276884338251,
           0.22034689872990293,
           -0.1524072599445287
          ],
          [
           0.007835562908554332,
           0.008486586801401677,
           0.005564099285082377,
           1,
           -0.01997949361311502,
           -0.01491023957240589,
           0.006970804361421778,
           -0.011100302982558813,
           -0.0013975689195120692,
           0.01984858125943604,
           -0.005012106497770507,
           -0.00285932250179159,
           0.12443502983728108,
           -0.09038663799742853
          ],
          [
           -0.0066438341518436205,
           -0.007176877679585888,
           0.015894289630574265,
           -0.01997949361311502,
           1,
           -0.004319184228598712,
           -0.022458028140826397,
           0.0009104664285647185,
           -0.0016165611626538718,
           0.011130016689726572,
           -0.002672118500046207,
           -0.010546208768722653,
           0.015534602732097441,
           -0.008363847077056402
          ],
          [
           0.00233914576807192,
           -0.004410575519641641,
           0.006069831862334074,
           -0.01491023957240589,
           -0.004319184228598712,
           1,
           -0.0012573099963614559,
           0.003981776603452499,
           -0.0025958379072584647,
           -0.010067757081073115,
           0.0017526345644968092,
           -0.014292561841228115,
           0.15794008468383808,
           -0.11009279171204092
          ],
          [
           0.0041847573496780425,
           -0.017560780525207265,
           -0.0019775930554612165,
           0.006970804361421778,
           -0.022458028140826397,
           -0.0012573099963614559,
           1,
           -0.00023278032247807463,
           0.0008865341781376439,
           0.009393959667625856,
           0.009248616382042564,
           0.00794288096430043,
           -0.010555827477494464,
           0.005969306820816482
          ],
          [
           -0.00421706976861861,
           -0.017289780332193184,
           0.006719710036902543,
           -0.011100302982558813,
           0.0009104664285647185,
           0.003981776603452499,
           -0.00023278032247807463,
           1,
           0.02102667127868141,
           0.008690543556548656,
           -0.02461677289609941,
           -0.004864605491232044,
           0.0006623721378246148,
           -0.006715382095628239
          ],
          [
           -0.01881557139055322,
           -0.01895916530719023,
           0.009041044289071029,
           -0.0013975689195120692,
           -0.0016165611626538718,
           -0.0025958379072584647,
           0.0008865341781376439,
           0.02102667127868141,
           1,
           -0.010553059120707082,
           0.003715278621674358,
           -0.006454167590358991,
           -0.025446957886776117,
           0.005999035887489969
          ],
          [
           0.009301984753601101,
           -0.0013149495536872004,
           0.025243849241456496,
           0.01984858125943604,
           0.011130016689726572,
           -0.010067757081073115,
           0.009393959667625856,
           0.008690543556548656,
           -0.010553059120707082,
           1,
           -0.002621433758807231,
           0.00967922185281401,
           0.019267742461709026,
           -0.008536223053523086
          ],
          [
           0.009158327908309274,
           0.015581887876310764,
           0.01731166306115099,
           -0.005012106497770507,
           -0.002672118500046207,
           0.0017526345644968092,
           0.009248616382042564,
           -0.02461677289609941,
           0.003715278621674358,
           -0.002621433758807231,
           1,
           -0.03563161463653825,
           -0.008857433138075627,
           0.001848023981387461
          ],
          [
           -0.01359180416608039,
           -0.009075591135210602,
           -0.02312276884338251,
           -0.00285932250179159,
           -0.010546208768722653,
           -0.014292561841228115,
           0.00794288096430043,
           -0.004864605491232044,
           -0.006454167590358991,
           0.00967922185281401,
           -0.03563161463653825,
           1,
           -0.02930412403737961,
           0.014873113233046107
          ],
          [
           0.6145597341195581,
           0.1826003982062982,
           0.22034689872990293,
           0.12443502983728108,
           0.015534602732097441,
           0.15794008468383808,
           -0.010555827477494464,
           0.0006623721378246148,
           -0.025446957886776117,
           0.019267742461709026,
           -0.008857433138075627,
           -0.02930412403737961,
           1,
           -0.6556114838458436
          ],
          [
           -0.34810600073461245,
           -0.10827064950241343,
           -0.1524072599445287,
           -0.09038663799742853,
           -0.008363847077056402,
           -0.11009279171204092,
           0.005969306820816482,
           -0.006715382095628239,
           0.005999035887489969,
           -0.008536223053523086,
           0.001848023981387461,
           0.014873113233046107,
           -0.6556114838458436,
           1
          ]
         ],
         "zmax": 1,
         "zmin": -1
        }
       ],
       "layout": {
        "height": 600,
        "template": {
         "data": {
          "bar": [
           {
            "error_x": {
             "color": "#2a3f5f"
            },
            "error_y": {
             "color": "#2a3f5f"
            },
            "marker": {
             "line": {
              "color": "#E5ECF6",
              "width": 0.5
             },
             "pattern": {
              "fillmode": "overlay",
              "size": 10,
              "solidity": 0.2
             }
            },
            "type": "bar"
           }
          ],
          "barpolar": [
           {
            "marker": {
             "line": {
              "color": "#E5ECF6",
              "width": 0.5
             },
             "pattern": {
              "fillmode": "overlay",
              "size": 10,
              "solidity": 0.2
             }
            },
            "type": "barpolar"
           }
          ],
          "carpet": [
           {
            "aaxis": {
             "endlinecolor": "#2a3f5f",
             "gridcolor": "white",
             "linecolor": "white",
             "minorgridcolor": "white",
             "startlinecolor": "#2a3f5f"
            },
            "baxis": {
             "endlinecolor": "#2a3f5f",
             "gridcolor": "white",
             "linecolor": "white",
             "minorgridcolor": "white",
             "startlinecolor": "#2a3f5f"
            },
            "type": "carpet"
           }
          ],
          "choropleth": [
           {
            "colorbar": {
             "outlinewidth": 0,
             "ticks": ""
            },
            "type": "choropleth"
           }
          ],
          "contour": [
           {
            "colorbar": {
             "outlinewidth": 0,
             "ticks": ""
            },
            "colorscale": [
             [
              0,
              "#0d0887"
             ],
             [
              0.1111111111111111,
              "#46039f"
             ],
             [
              0.2222222222222222,
              "#7201a8"
             ],
             [
              0.3333333333333333,
              "#9c179e"
             ],
             [
              0.4444444444444444,
              "#bd3786"
             ],
             [
              0.5555555555555556,
              "#d8576b"
             ],
             [
              0.6666666666666666,
              "#ed7953"
             ],
             [
              0.7777777777777778,
              "#fb9f3a"
             ],
             [
              0.8888888888888888,
              "#fdca26"
             ],
             [
              1,
              "#f0f921"
             ]
            ],
            "type": "contour"
           }
          ],
          "contourcarpet": [
           {
            "colorbar": {
             "outlinewidth": 0,
             "ticks": ""
            },
            "type": "contourcarpet"
           }
          ],
          "heatmap": [
           {
            "colorbar": {
             "outlinewidth": 0,
             "ticks": ""
            },
            "colorscale": [
             [
              0,
              "#0d0887"
             ],
             [
              0.1111111111111111,
              "#46039f"
             ],
             [
              0.2222222222222222,
              "#7201a8"
             ],
             [
              0.3333333333333333,
              "#9c179e"
             ],
             [
              0.4444444444444444,
              "#bd3786"
             ],
             [
              0.5555555555555556,
              "#d8576b"
             ],
             [
              0.6666666666666666,
              "#ed7953"
             ],
             [
              0.7777777777777778,
              "#fb9f3a"
             ],
             [
              0.8888888888888888,
              "#fdca26"
             ],
             [
              1,
              "#f0f921"
             ]
            ],
            "type": "heatmap"
           }
          ],
          "heatmapgl": [
           {
            "colorbar": {
             "outlinewidth": 0,
             "ticks": ""
            },
            "colorscale": [
             [
              0,
              "#0d0887"
             ],
             [
              0.1111111111111111,
              "#46039f"
             ],
             [
              0.2222222222222222,
              "#7201a8"
             ],
             [
              0.3333333333333333,
              "#9c179e"
             ],
             [
              0.4444444444444444,
              "#bd3786"
             ],
             [
              0.5555555555555556,
              "#d8576b"
             ],
             [
              0.6666666666666666,
              "#ed7953"
             ],
             [
              0.7777777777777778,
              "#fb9f3a"
             ],
             [
              0.8888888888888888,
              "#fdca26"
             ],
             [
              1,
              "#f0f921"
             ]
            ],
            "type": "heatmapgl"
           }
          ],
          "histogram": [
           {
            "marker": {
             "pattern": {
              "fillmode": "overlay",
              "size": 10,
              "solidity": 0.2
             }
            },
            "type": "histogram"
           }
          ],
          "histogram2d": [
           {
            "colorbar": {
             "outlinewidth": 0,
             "ticks": ""
            },
            "colorscale": [
             [
              0,
              "#0d0887"
             ],
             [
              0.1111111111111111,
              "#46039f"
             ],
             [
              0.2222222222222222,
              "#7201a8"
             ],
             [
              0.3333333333333333,
              "#9c179e"
             ],
             [
              0.4444444444444444,
              "#bd3786"
             ],
             [
              0.5555555555555556,
              "#d8576b"
             ],
             [
              0.6666666666666666,
              "#ed7953"
             ],
             [
              0.7777777777777778,
              "#fb9f3a"
             ],
             [
              0.8888888888888888,
              "#fdca26"
             ],
             [
              1,
              "#f0f921"
             ]
            ],
            "type": "histogram2d"
           }
          ],
          "histogram2dcontour": [
           {
            "colorbar": {
             "outlinewidth": 0,
             "ticks": ""
            },
            "colorscale": [
             [
              0,
              "#0d0887"
             ],
             [
              0.1111111111111111,
              "#46039f"
             ],
             [
              0.2222222222222222,
              "#7201a8"
             ],
             [
              0.3333333333333333,
              "#9c179e"
             ],
             [
              0.4444444444444444,
              "#bd3786"
             ],
             [
              0.5555555555555556,
              "#d8576b"
             ],
             [
              0.6666666666666666,
              "#ed7953"
             ],
             [
              0.7777777777777778,
              "#fb9f3a"
             ],
             [
              0.8888888888888888,
              "#fdca26"
             ],
             [
              1,
              "#f0f921"
             ]
            ],
            "type": "histogram2dcontour"
           }
          ],
          "mesh3d": [
           {
            "colorbar": {
             "outlinewidth": 0,
             "ticks": ""
            },
            "type": "mesh3d"
           }
          ],
          "parcoords": [
           {
            "line": {
             "colorbar": {
              "outlinewidth": 0,
              "ticks": ""
             }
            },
            "type": "parcoords"
           }
          ],
          "pie": [
           {
            "automargin": true,
            "type": "pie"
           }
          ],
          "scatter": [
           {
            "fillpattern": {
             "fillmode": "overlay",
             "size": 10,
             "solidity": 0.2
            },
            "type": "scatter"
           }
          ],
          "scatter3d": [
           {
            "line": {
             "colorbar": {
              "outlinewidth": 0,
              "ticks": ""
             }
            },
            "marker": {
             "colorbar": {
              "outlinewidth": 0,
              "ticks": ""
             }
            },
            "type": "scatter3d"
           }
          ],
          "scattercarpet": [
           {
            "marker": {
             "colorbar": {
              "outlinewidth": 0,
              "ticks": ""
             }
            },
            "type": "scattercarpet"
           }
          ],
          "scattergeo": [
           {
            "marker": {
             "colorbar": {
              "outlinewidth": 0,
              "ticks": ""
             }
            },
            "type": "scattergeo"
           }
          ],
          "scattergl": [
           {
            "marker": {
             "colorbar": {
              "outlinewidth": 0,
              "ticks": ""
             }
            },
            "type": "scattergl"
           }
          ],
          "scattermapbox": [
           {
            "marker": {
             "colorbar": {
              "outlinewidth": 0,
              "ticks": ""
             }
            },
            "type": "scattermapbox"
           }
          ],
          "scatterpolar": [
           {
            "marker": {
             "colorbar": {
              "outlinewidth": 0,
              "ticks": ""
             }
            },
            "type": "scatterpolar"
           }
          ],
          "scatterpolargl": [
           {
            "marker": {
             "colorbar": {
              "outlinewidth": 0,
              "ticks": ""
             }
            },
            "type": "scatterpolargl"
           }
          ],
          "scatterternary": [
           {
            "marker": {
             "colorbar": {
              "outlinewidth": 0,
              "ticks": ""
             }
            },
            "type": "scatterternary"
           }
          ],
          "surface": [
           {
            "colorbar": {
             "outlinewidth": 0,
             "ticks": ""
            },
            "colorscale": [
             [
              0,
              "#0d0887"
             ],
             [
              0.1111111111111111,
              "#46039f"
             ],
             [
              0.2222222222222222,
              "#7201a8"
             ],
             [
              0.3333333333333333,
              "#9c179e"
             ],
             [
              0.4444444444444444,
              "#bd3786"
             ],
             [
              0.5555555555555556,
              "#d8576b"
             ],
             [
              0.6666666666666666,
              "#ed7953"
             ],
             [
              0.7777777777777778,
              "#fb9f3a"
             ],
             [
              0.8888888888888888,
              "#fdca26"
             ],
             [
              1,
              "#f0f921"
             ]
            ],
            "type": "surface"
           }
          ],
          "table": [
           {
            "cells": {
             "fill": {
              "color": "#EBF0F8"
             },
             "line": {
              "color": "white"
             }
            },
            "header": {
             "fill": {
              "color": "#C8D4E3"
             },
             "line": {
              "color": "white"
             }
            },
            "type": "table"
           }
          ]
         },
         "layout": {
          "annotationdefaults": {
           "arrowcolor": "#2a3f5f",
           "arrowhead": 0,
           "arrowwidth": 1
          },
          "autotypenumbers": "strict",
          "coloraxis": {
           "colorbar": {
            "outlinewidth": 0,
            "ticks": ""
           }
          },
          "colorscale": {
           "diverging": [
            [
             0,
             "#8e0152"
            ],
            [
             0.1,
             "#c51b7d"
            ],
            [
             0.2,
             "#de77ae"
            ],
            [
             0.3,
             "#f1b6da"
            ],
            [
             0.4,
             "#fde0ef"
            ],
            [
             0.5,
             "#f7f7f7"
            ],
            [
             0.6,
             "#e6f5d0"
            ],
            [
             0.7,
             "#b8e186"
            ],
            [
             0.8,
             "#7fbc41"
            ],
            [
             0.9,
             "#4d9221"
            ],
            [
             1,
             "#276419"
            ]
           ],
           "sequential": [
            [
             0,
             "#0d0887"
            ],
            [
             0.1111111111111111,
             "#46039f"
            ],
            [
             0.2222222222222222,
             "#7201a8"
            ],
            [
             0.3333333333333333,
             "#9c179e"
            ],
            [
             0.4444444444444444,
             "#bd3786"
            ],
            [
             0.5555555555555556,
             "#d8576b"
            ],
            [
             0.6666666666666666,
             "#ed7953"
            ],
            [
             0.7777777777777778,
             "#fb9f3a"
            ],
            [
             0.8888888888888888,
             "#fdca26"
            ],
            [
             1,
             "#f0f921"
            ]
           ],
           "sequentialminus": [
            [
             0,
             "#0d0887"
            ],
            [
             0.1111111111111111,
             "#46039f"
            ],
            [
             0.2222222222222222,
             "#7201a8"
            ],
            [
             0.3333333333333333,
             "#9c179e"
            ],
            [
             0.4444444444444444,
             "#bd3786"
            ],
            [
             0.5555555555555556,
             "#d8576b"
            ],
            [
             0.6666666666666666,
             "#ed7953"
            ],
            [
             0.7777777777777778,
             "#fb9f3a"
            ],
            [
             0.8888888888888888,
             "#fdca26"
            ],
            [
             1,
             "#f0f921"
            ]
           ]
          },
          "colorway": [
           "#636efa",
           "#EF553B",
           "#00cc96",
           "#ab63fa",
           "#FFA15A",
           "#19d3f3",
           "#FF6692",
           "#B6E880",
           "#FF97FF",
           "#FECB52"
          ],
          "font": {
           "color": "#2a3f5f"
          },
          "geo": {
           "bgcolor": "white",
           "lakecolor": "white",
           "landcolor": "#E5ECF6",
           "showlakes": true,
           "showland": true,
           "subunitcolor": "white"
          },
          "hoverlabel": {
           "align": "left"
          },
          "hovermode": "closest",
          "mapbox": {
           "style": "light"
          },
          "paper_bgcolor": "white",
          "plot_bgcolor": "#E5ECF6",
          "polar": {
           "angularaxis": {
            "gridcolor": "white",
            "linecolor": "white",
            "ticks": ""
           },
           "bgcolor": "#E5ECF6",
           "radialaxis": {
            "gridcolor": "white",
            "linecolor": "white",
            "ticks": ""
           }
          },
          "scene": {
           "xaxis": {
            "backgroundcolor": "#E5ECF6",
            "gridcolor": "white",
            "gridwidth": 2,
            "linecolor": "white",
            "showbackground": true,
            "ticks": "",
            "zerolinecolor": "white"
           },
           "yaxis": {
            "backgroundcolor": "#E5ECF6",
            "gridcolor": "white",
            "gridwidth": 2,
            "linecolor": "white",
            "showbackground": true,
            "ticks": "",
            "zerolinecolor": "white"
           },
           "zaxis": {
            "backgroundcolor": "#E5ECF6",
            "gridcolor": "white",
            "gridwidth": 2,
            "linecolor": "white",
            "showbackground": true,
            "ticks": "",
            "zerolinecolor": "white"
           }
          },
          "shapedefaults": {
           "line": {
            "color": "#2a3f5f"
           }
          },
          "ternary": {
           "aaxis": {
            "gridcolor": "white",
            "linecolor": "white",
            "ticks": ""
           },
           "baxis": {
            "gridcolor": "white",
            "linecolor": "white",
            "ticks": ""
           },
           "bgcolor": "#E5ECF6",
           "caxis": {
            "gridcolor": "white",
            "linecolor": "white",
            "ticks": ""
           }
          },
          "title": {
           "x": 0.05
          },
          "xaxis": {
           "automargin": true,
           "gridcolor": "white",
           "linecolor": "white",
           "ticks": "",
           "title": {
            "standoff": 15
           },
           "zerolinecolor": "white",
           "zerolinewidth": 2
          },
          "yaxis": {
           "automargin": true,
           "gridcolor": "white",
           "linecolor": "white",
           "ticks": "",
           "title": {
            "standoff": 15
           },
           "zerolinecolor": "white",
           "zerolinewidth": 2
          }
         }
        },
        "title": {
         "font": {
          "size": 14
         },
         "text": "Correlation Matrix of Air Quality and Health Impact Data"
        },
        "width": 800,
        "xaxis": {
         "tickangle": -45,
         "title": {
          "font": {
           "size": 12
          },
          "text": "Variables"
         }
        },
        "yaxis": {
         "tickangle": -45,
         "title": {
          "font": {
           "size": 12
          },
          "text": "Variables"
         }
        }
       }
      }
     },
     "metadata": {},
     "output_type": "display_data"
    }
   ],
   "source": [
    "import plotly.graph_objects as go\n",
    "\n",
    "corr_matrix = df.corr()\n",
    "fig = go.Figure(data=go.Heatmap(\n",
    "    z=corr_matrix.values,\n",
    "    x=corr_matrix.columns,\n",
    "    y=corr_matrix.columns,\n",
    "    colorscale='Viridis',\n",
    "    colorbar=dict(title='Correlation Coefficient'),\n",
    "    zmin=-1,\n",
    "    zmax=1,\n",
    "    text=corr_matrix.values, \n",
    "    texttemplate='%{text:.2f}', \n",
    "    textfont=dict(size=10, color='white')\n",
    "))\n",
    "\n",
    "fig.update_layout(\n",
    "    title='Correlation Matrix of Air Quality and Health Impact Data',\n",
    "    xaxis_title='Variables',\n",
    "    yaxis_title='Variables',\n",
    "    xaxis=dict(tickangle=-45),\n",
    "    yaxis=dict(tickangle=-45),\n",
    "    xaxis_title_font=dict(size=12),\n",
    "    yaxis_title_font=dict(size=12),\n",
    "    title_font=dict(size=14),\n",
    "    width=800,  \n",
    "    height=600  \n",
    ")\n",
    "\n",
    "# Show the plot\n",
    "fig.show()"
   ]
  },
  {
   "cell_type": "markdown",
   "metadata": {},
   "source": [
    "we absoultely see that the positive correlation is by the numeric columns that taken by sensor like AQI, PM10, PM2_5, NO2, SO2 and O3, but later on we will use all of the feature for modeling"
   ]
  },
  {
   "cell_type": "markdown",
   "metadata": {},
   "source": [
    "### preprocessing and modelling\n"
   ]
  },
  {
   "cell_type": "code",
   "execution_count": 16,
   "metadata": {},
   "outputs": [],
   "source": [
    "df = df.drop(columns = 'HealthImpactClass')"
   ]
  },
  {
   "cell_type": "markdown",
   "metadata": {},
   "source": [
    "for the modelling i will use regression method for predict a numerical feature called \"HealthImpactScore\", so the 'HealthImpactClass' would be removed."
   ]
  },
  {
   "cell_type": "code",
   "execution_count": 17,
   "metadata": {},
   "outputs": [
    {
     "data": {
      "text/html": [
       "<div>\n",
       "<style scoped>\n",
       "    .dataframe tbody tr th:only-of-type {\n",
       "        vertical-align: middle;\n",
       "    }\n",
       "\n",
       "    .dataframe tbody tr th {\n",
       "        vertical-align: top;\n",
       "    }\n",
       "\n",
       "    .dataframe thead th {\n",
       "        text-align: right;\n",
       "    }\n",
       "</style>\n",
       "<table border=\"1\" class=\"dataframe\">\n",
       "  <thead>\n",
       "    <tr style=\"text-align: right;\">\n",
       "      <th></th>\n",
       "      <th>AQI</th>\n",
       "      <th>PM10</th>\n",
       "      <th>PM2_5</th>\n",
       "      <th>NO2</th>\n",
       "      <th>SO2</th>\n",
       "      <th>O3</th>\n",
       "      <th>Temperature</th>\n",
       "      <th>Humidity</th>\n",
       "      <th>WindSpeed</th>\n",
       "      <th>RespiratoryCases</th>\n",
       "      <th>CardiovascularCases</th>\n",
       "      <th>HospitalAdmissions</th>\n",
       "      <th>HealthImpactScore</th>\n",
       "    </tr>\n",
       "  </thead>\n",
       "  <tbody>\n",
       "    <tr>\n",
       "      <th>0</th>\n",
       "      <td>187.270059</td>\n",
       "      <td>295.853039</td>\n",
       "      <td>13.038560</td>\n",
       "      <td>6.639263</td>\n",
       "      <td>66.161150</td>\n",
       "      <td>54.624280</td>\n",
       "      <td>5.150335</td>\n",
       "      <td>84.424344</td>\n",
       "      <td>6.137755</td>\n",
       "      <td>7</td>\n",
       "      <td>5</td>\n",
       "      <td>1</td>\n",
       "      <td>97.244041</td>\n",
       "    </tr>\n",
       "    <tr>\n",
       "      <th>1</th>\n",
       "      <td>475.357153</td>\n",
       "      <td>246.254703</td>\n",
       "      <td>9.984497</td>\n",
       "      <td>16.318326</td>\n",
       "      <td>90.499523</td>\n",
       "      <td>169.621728</td>\n",
       "      <td>1.543378</td>\n",
       "      <td>46.851415</td>\n",
       "      <td>4.521422</td>\n",
       "      <td>10</td>\n",
       "      <td>2</td>\n",
       "      <td>0</td>\n",
       "      <td>100.000000</td>\n",
       "    </tr>\n",
       "  </tbody>\n",
       "</table>\n",
       "</div>"
      ],
      "text/plain": [
       "          AQI        PM10      PM2_5        NO2        SO2          O3  \\\n",
       "0  187.270059  295.853039  13.038560   6.639263  66.161150   54.624280   \n",
       "1  475.357153  246.254703   9.984497  16.318326  90.499523  169.621728   \n",
       "\n",
       "   Temperature   Humidity  WindSpeed  RespiratoryCases  CardiovascularCases  \\\n",
       "0     5.150335  84.424344   6.137755                 7                    5   \n",
       "1     1.543378  46.851415   4.521422                10                    2   \n",
       "\n",
       "   HospitalAdmissions  HealthImpactScore  \n",
       "0                   1          97.244041  \n",
       "1                   0         100.000000  "
      ]
     },
     "execution_count": 17,
     "metadata": {},
     "output_type": "execute_result"
    }
   ],
   "source": [
    "df.head(2)"
   ]
  },
  {
   "cell_type": "code",
   "execution_count": 20,
   "metadata": {},
   "outputs": [],
   "source": [
    "from sklearn.model_selection import train_test_split\n",
    "\n",
    "X = df.drop(columns=['HealthImpactScore'])\n",
    "y = df['HealthImpactScore']\n",
    "\n",
    "X_train, X_test, y_train, y_test = train_test_split(X, y, test_size=0.2, random_state=42)"
   ]
  },
  {
   "cell_type": "code",
   "execution_count": 21,
   "metadata": {},
   "outputs": [],
   "source": [
    "from sklearn.preprocessing import StandardScaler\n",
    "\n",
    "scaler = StandardScaler()\n",
    "X_train_scaled = scaler.fit_transform(X_train)\n",
    "X_test_scaled = scaler.transform(X_test)"
   ]
  },
  {
   "cell_type": "code",
   "execution_count": 26,
   "metadata": {},
   "outputs": [],
   "source": [
    "from sklearn.linear_model import LinearRegression, Ridge, Lasso, ElasticNet\n",
    "from sklearn.tree import DecisionTreeRegressor\n",
    "from sklearn.ensemble import RandomForestRegressor, GradientBoostingRegressor, HistGradientBoostingRegressor\n",
    "from lightgbm import LGBMRegressor\n",
    "from xgboost import XGBRegressor\n",
    "\n",
    "models = {\n",
    "    'Linear Regression': LinearRegression(),\n",
    "    'Ridge Regression': Ridge(),\n",
    "    'Lasso Regression': Lasso(),\n",
    "    'ElasticNet Regression': ElasticNet(),\n",
    "    'Decision Tree Regression': DecisionTreeRegressor(),\n",
    "    'Random Forest Regression': RandomForestRegressor(),\n",
    "    'Gradient Boosting Regression': GradientBoostingRegressor(),\n",
    "    'HistGradientBoostingRegressor': HistGradientBoostingRegressor(),\n",
    "    'LGBMRegressor': LGBMRegressor(),\n",
    "    'XGBRegressor': XGBRegressor()\n",
    "}"
   ]
  },
  {
   "cell_type": "code",
   "execution_count": 27,
   "metadata": {},
   "outputs": [
    {
     "name": "stdout",
     "output_type": "stream",
     "text": [
      "[LightGBM] [Info] Auto-choosing row-wise multi-threading, the overhead of testing was 0.000141 seconds.\n",
      "You can set `force_row_wise=true` to remove the overhead.\n",
      "And if memory is not enough, you can set `force_col_wise=true`.\n",
      "[LightGBM] [Info] Total Bins 2343\n",
      "[LightGBM] [Info] Number of data points in the train set: 4648, number of used features: 12\n",
      "[LightGBM] [Info] Start training from score 93.922841\n",
      "Regression Model Performance:\n",
      "                        Model  Mean Squared Error  Mean Absolute Error  R^2 Score\n",
      "            Linear Regression           92.682879             7.354111   0.505338\n",
      "             Ridge Regression           92.684487             7.353716   0.505329\n",
      "             Lasso Regression           99.245761             7.141586   0.470311\n",
      "        ElasticNet Regression          109.664001             7.070361   0.414707\n",
      "     Decision Tree Regression           25.615426             2.328902   0.863287\n",
      "     Random Forest Regression           10.104620             1.549161   0.946070\n",
      " Gradient Boosting Regression            9.143774             1.704966   0.951198\n",
      "HistGradientBoostingRegressor            4.794947             1.092560   0.974409\n",
      "                LGBMRegressor            4.559160             1.069996   0.975667\n",
      "                 XGBRegressor            6.132559             1.276406   0.967270\n"
     ]
    }
   ],
   "source": [
    "results = []\n",
    "\n",
    "for name, model in models.items():\n",
    "    model.fit(X_train_scaled, y_train)\n",
    "    y_pred = model.predict(X_test_scaled)\n",
    "    mse = mean_squared_error(y_test, y_pred)\n",
    "    mae = mean_absolute_error(y_test, y_pred)\n",
    "    r2 = r2_score(y_test, y_pred)\n",
    "    \n",
    "    results.append({\n",
    "        'Model': name,\n",
    "        'Mean Squared Error': mse,\n",
    "        'Mean Absolute Error': mae,\n",
    "        'R^2 Score': r2\n",
    "    })\n",
    "\n",
    "results_df = pd.DataFrame(results)\n",
    "\n",
    "print(\"Regression Model Performance:\")\n",
    "print(results_df.to_string(index=False))"
   ]
  },
  {
   "cell_type": "markdown",
   "metadata": {},
   "source": [
    "so we're going to try some tuning parameter for gaining some accuracy if neccessary"
   ]
  },
  {
   "cell_type": "code",
   "execution_count": 28,
   "metadata": {},
   "outputs": [
    {
     "name": "stdout",
     "output_type": "stream",
     "text": [
      "Fitting 5 folds for each of 36 candidates, totalling 180 fits\n",
      "Fitting 5 folds for each of 180 candidates, totalling 900 fits\n",
      "Fitting 5 folds for each of 36 candidates, totalling 180 fits\n",
      "Fitting 5 folds for each of 81 candidates, totalling 405 fits\n",
      "Fitting 5 folds for each of 45 candidates, totalling 225 fits\n",
      "[LightGBM] [Info] Auto-choosing col-wise multi-threading, the overhead of testing was 0.000337 seconds.\n",
      "You can set `force_col_wise=true` to remove the overhead.\n",
      "[LightGBM] [Info] Total Bins 2343\n",
      "[LightGBM] [Info] Number of data points in the train set: 4648, number of used features: 12\n",
      "[LightGBM] [Info] Start training from score 93.922841\n",
      "Fitting 5 folds for each of 90 candidates, totalling 450 fits\n",
      "Tuned Model Performance:\n",
      "                        Model                                                                         Best Parameters  Mean Squared Error  Mean Absolute Error  R^2 Score\n",
      "     Decision Tree Regression                       {'max_depth': 30, 'min_samples_leaf': 4, 'min_samples_split': 10}           23.515301             2.244806   0.874495\n",
      "     Random Forest Regression {'max_depth': None, 'min_samples_leaf': 2, 'min_samples_split': 2, 'n_estimators': 400}            9.691034             1.511201   0.948278\n",
      " Gradient Boosting Regression                             {'learning_rate': 0.1, 'max_depth': 5, 'n_estimators': 300}            5.131869             1.209394   0.972610\n",
      "HistGradientBoostingRegressor        {'l2_regularization': 10, 'learning_rate': 0.1, 'max_depth': 7, 'max_iter': 300}            4.062261             1.044951   0.978319\n",
      "                LGBMRegressor                           {'learning_rate': 0.1, 'n_estimators': 400, 'num_leaves': 31}            4.106033             1.034452   0.978085\n",
      "                 XGBRegressor           {'learning_rate': 0.1, 'max_depth': 5, 'n_estimators': 400, 'subsample': 0.8}            4.591418             1.118247   0.975495\n"
     ]
    }
   ],
   "source": [
    "from sklearn.model_selection import GridSearchCV\n",
    "\n",
    "param_grids = {\n",
    "    'Decision Tree Regression': {\n",
    "        'model': DecisionTreeRegressor(),\n",
    "        'param_grid': {\n",
    "            'max_depth': [None, 10, 20, 30],\n",
    "            'min_samples_split': [2, 5, 10],\n",
    "            'min_samples_leaf': [1, 2, 4]\n",
    "        }\n",
    "    },\n",
    "    'Random Forest Regression': {\n",
    "        'model': RandomForestRegressor(),\n",
    "        'param_grid': {\n",
    "            'n_estimators': [50, 100, 200, 300, 400],\n",
    "            'max_depth': [None, 10, 20, 30],\n",
    "            'min_samples_split': [2, 5, 10],\n",
    "            'min_samples_leaf': [1, 2, 4]\n",
    "        }\n",
    "    },\n",
    "    'Gradient Boosting Regression': {\n",
    "        'model': GradientBoostingRegressor(),\n",
    "        'param_grid': {\n",
    "            'n_estimators': [50, 100, 200, 300],\n",
    "            'learning_rate': [0.001, 0.01, 0.1],\n",
    "            'max_depth': [3, 5, 7]\n",
    "        }\n",
    "    },\n",
    "    'HistGradientBoostingRegressor': {\n",
    "        'model': HistGradientBoostingRegressor(),\n",
    "        'param_grid': {\n",
    "            'learning_rate': [0.001, 0.01, 0.1],\n",
    "            'max_iter': [100, 200, 300],\n",
    "            'max_depth': [3, 5, 7],\n",
    "            'l2_regularization': [0.1, 1, 10]\n",
    "        }\n",
    "    },\n",
    "    'LGBMRegressor': {\n",
    "        'model': LGBMRegressor(),\n",
    "        'param_grid': {\n",
    "            'n_estimators': [50, 100, 200, 300, 400],\n",
    "            'learning_rate': [0.001, 0.01, 0.1],\n",
    "            'num_leaves': [31, 63, 127]\n",
    "        }\n",
    "    },\n",
    "    'XGBRegressor': {\n",
    "        'model': XGBRegressor(),\n",
    "        'param_grid': {\n",
    "            'n_estimators': [50, 100, 200, 300, 400],\n",
    "            'learning_rate': [0.001, 0.01, 0.1],\n",
    "            'max_depth': [3, 5, 7],\n",
    "            'subsample': [0.8, 1.0]\n",
    "        }\n",
    "    }\n",
    "}\n",
    "\n",
    "results = []\n",
    "\n",
    "for name, config in param_grids.items():\n",
    "    grid_search = GridSearchCV(estimator=config['model'], param_grid=config['param_grid'], \n",
    "                               cv=5, scoring='neg_mean_squared_error', n_jobs=-1, verbose=1)\n",
    "    grid_search.fit(X_train_scaled, y_train)\n",
    "    best_model = grid_search.best_estimator_\n",
    "    y_pred = best_model.predict(X_test_scaled)\n",
    "    \n",
    "    mse = mean_squared_error(y_test, y_pred)\n",
    "    mae = mean_absolute_error(y_test, y_pred)\n",
    "    r2 = r2_score(y_test, y_pred)\n",
    "    \n",
    "    results.append({\n",
    "        'Model': name,\n",
    "        'Best Parameters': grid_search.best_params_,\n",
    "        'Mean Squared Error': mse,\n",
    "        'Mean Absolute Error': mae,\n",
    "        'R^2 Score': r2\n",
    "    })\n",
    "\n",
    "results_df = pd.DataFrame(results)\n",
    "\n",
    "\n",
    "print(\"Tuned Model Performance:\")\n",
    "print(results_df.to_string(index=False))"
   ]
  },
  {
   "cell_type": "markdown",
   "metadata": {},
   "source": [
    "we can conclude the HistGradingBoostingRegressor has the best accuracy, for the next it will be the only algorithm i used on the next simple App prediction of airquality"
   ]
  }
 ],
 "metadata": {
  "kernelspec": {
   "display_name": "Python 3",
   "language": "python",
   "name": "python3"
  },
  "language_info": {
   "codemirror_mode": {
    "name": "ipython",
    "version": 3
   },
   "file_extension": ".py",
   "mimetype": "text/x-python",
   "name": "python",
   "nbconvert_exporter": "python",
   "pygments_lexer": "ipython3",
   "version": "3.9.2"
  }
 },
 "nbformat": 4,
 "nbformat_minor": 2
}
